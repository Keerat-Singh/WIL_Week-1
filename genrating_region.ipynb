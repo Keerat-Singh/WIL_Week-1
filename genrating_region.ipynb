{
 "cells": [
  {
   "cell_type": "code",
   "execution_count": 1,
   "metadata": {},
   "outputs": [],
   "source": [
    "import pandas as pd\n",
    "import random\n",
    "import numpy as np\n",
    "from faker import Faker"
   ]
  },
  {
   "cell_type": "code",
   "execution_count": 9,
   "metadata": {},
   "outputs": [
    {
     "data": {
      "text/html": [
       "<div>\n",
       "<style scoped>\n",
       "    .dataframe tbody tr th:only-of-type {\n",
       "        vertical-align: middle;\n",
       "    }\n",
       "\n",
       "    .dataframe tbody tr th {\n",
       "        vertical-align: top;\n",
       "    }\n",
       "\n",
       "    .dataframe thead th {\n",
       "        text-align: right;\n",
       "    }\n",
       "</style>\n",
       "<table border=\"1\" class=\"dataframe\">\n",
       "  <thead>\n",
       "    <tr style=\"text-align: right;\">\n",
       "      <th></th>\n",
       "      <th>User ID</th>\n",
       "      <th>Delivery Address</th>\n",
       "      <th>Delivery Frequency</th>\n",
       "      <th>Preferred Delivery Day</th>\n",
       "    </tr>\n",
       "  </thead>\n",
       "  <tbody>\n",
       "    <tr>\n",
       "      <th>0</th>\n",
       "      <td>1</td>\n",
       "      <td>159 Cindy Bridge Suite 920, Leslietown</td>\n",
       "      <td>5</td>\n",
       "      <td>Friday, Monday, Sunday, Wednesday, Thursday</td>\n",
       "    </tr>\n",
       "    <tr>\n",
       "      <th>1</th>\n",
       "      <td>2</td>\n",
       "      <td>020 Susan Highway Apt. 827, Lake Mollyfort</td>\n",
       "      <td>1</td>\n",
       "      <td>Wednesday</td>\n",
       "    </tr>\n",
       "    <tr>\n",
       "      <th>2</th>\n",
       "      <td>3</td>\n",
       "      <td>1159 Bailey Junction, Stevenchester</td>\n",
       "      <td>6</td>\n",
       "      <td>Wednesday, Monday, Sunday, Thursday, Saturday,...</td>\n",
       "    </tr>\n",
       "    <tr>\n",
       "      <th>3</th>\n",
       "      <td>4</td>\n",
       "      <td>656 Tammy Flat Suite 016, South Kevin</td>\n",
       "      <td>7</td>\n",
       "      <td>Thursday, Wednesday, Sunday, Monday, Tuesday, ...</td>\n",
       "    </tr>\n",
       "    <tr>\n",
       "      <th>4</th>\n",
       "      <td>5</td>\n",
       "      <td>041 Jonathan Stravenue, Lake Patricia</td>\n",
       "      <td>2</td>\n",
       "      <td>Sunday, Tuesday</td>\n",
       "    </tr>\n",
       "    <tr>\n",
       "      <th>...</th>\n",
       "      <td>...</td>\n",
       "      <td>...</td>\n",
       "      <td>...</td>\n",
       "      <td>...</td>\n",
       "    </tr>\n",
       "    <tr>\n",
       "      <th>15244</th>\n",
       "      <td>15245</td>\n",
       "      <td>26844 Jacobson Track Apt. 449, Kaylahaven</td>\n",
       "      <td>6</td>\n",
       "      <td>Friday, Wednesday, Thursday, Sunday, Saturday,...</td>\n",
       "    </tr>\n",
       "    <tr>\n",
       "      <th>15245</th>\n",
       "      <td>15246</td>\n",
       "      <td>966 Norris Prairie Suite 690, Garzachester</td>\n",
       "      <td>6</td>\n",
       "      <td>Sunday, Friday, Wednesday, Monday, Thursday, S...</td>\n",
       "    </tr>\n",
       "    <tr>\n",
       "      <th>15246</th>\n",
       "      <td>15247</td>\n",
       "      <td>984 Pamela Fork, East Cindymouth</td>\n",
       "      <td>6</td>\n",
       "      <td>Wednesday, Friday, Tuesday, Monday, Sunday, Sa...</td>\n",
       "    </tr>\n",
       "    <tr>\n",
       "      <th>15247</th>\n",
       "      <td>15248</td>\n",
       "      <td>71632 Kevin Causeway Suite 241, Leebury</td>\n",
       "      <td>2</td>\n",
       "      <td>Friday, Sunday</td>\n",
       "    </tr>\n",
       "    <tr>\n",
       "      <th>15248</th>\n",
       "      <td>15249</td>\n",
       "      <td>1598 Miller Vista, South Kevin</td>\n",
       "      <td>6</td>\n",
       "      <td>Saturday, Tuesday, Sunday, Friday, Wednesday, ...</td>\n",
       "    </tr>\n",
       "  </tbody>\n",
       "</table>\n",
       "<p>15249 rows × 4 columns</p>\n",
       "</div>"
      ],
      "text/plain": [
       "       User ID                            Delivery Address  \\\n",
       "0            1      159 Cindy Bridge Suite 920, Leslietown   \n",
       "1            2  020 Susan Highway Apt. 827, Lake Mollyfort   \n",
       "2            3         1159 Bailey Junction, Stevenchester   \n",
       "3            4       656 Tammy Flat Suite 016, South Kevin   \n",
       "4            5       041 Jonathan Stravenue, Lake Patricia   \n",
       "...        ...                                         ...   \n",
       "15244    15245   26844 Jacobson Track Apt. 449, Kaylahaven   \n",
       "15245    15246  966 Norris Prairie Suite 690, Garzachester   \n",
       "15246    15247            984 Pamela Fork, East Cindymouth   \n",
       "15247    15248     71632 Kevin Causeway Suite 241, Leebury   \n",
       "15248    15249              1598 Miller Vista, South Kevin   \n",
       "\n",
       "       Delivery Frequency                             Preferred Delivery Day  \n",
       "0                       5        Friday, Monday, Sunday, Wednesday, Thursday  \n",
       "1                       1                                          Wednesday  \n",
       "2                       6  Wednesday, Monday, Sunday, Thursday, Saturday,...  \n",
       "3                       7  Thursday, Wednesday, Sunday, Monday, Tuesday, ...  \n",
       "4                       2                                    Sunday, Tuesday  \n",
       "...                   ...                                                ...  \n",
       "15244                   6  Friday, Wednesday, Thursday, Sunday, Saturday,...  \n",
       "15245                   6  Sunday, Friday, Wednesday, Monday, Thursday, S...  \n",
       "15246                   6  Wednesday, Friday, Tuesday, Monday, Sunday, Sa...  \n",
       "15247                   2                                     Friday, Sunday  \n",
       "15248                   6  Saturday, Tuesday, Sunday, Friday, Wednesday, ...  \n",
       "\n",
       "[15249 rows x 4 columns]"
      ]
     },
     "execution_count": 9,
     "metadata": {},
     "output_type": "execute_result"
    }
   ],
   "source": [
    "delivery_preference = pd.read_csv(\"Dataset/delivery_preference.csv\")\n",
    "delivery_preference"
   ]
  },
  {
   "cell_type": "code",
   "execution_count": null,
   "metadata": {},
   "outputs": [],
   "source": []
  },
  {
   "cell_type": "code",
   "execution_count": 11,
   "metadata": {},
   "outputs": [],
   "source": [
    "city_name = ['Barrie', 'Belleville', 'Brampton', 'Brant', 'Brantford', 'Brockville', 'Burlington', 'Cambridge', 'Clarence-Rockland', 'Cornwall', 'Chatham', 'Dryden', \n",
    "             'Elliot Lake', 'Greater Sudbury', 'Guelph', 'Haldimand County', 'Hamilton', 'Kawartha Lakes', 'Kenora', 'Kingston', 'Kitchener', 'London', 'Leamington', \n",
    "             'Markham', 'Mississauga', 'Niagara Falls', 'Norfolk County', 'North Bay', 'Orillia', 'Oshawa', 'Ottawa', 'Owen Sound', 'Pembroke', 'Peterborough', 'Pickering', \n",
    "             'Port Colborne', 'Prince Edward County', 'Quinte West', 'Richmond Hill', 'Sarnia', 'Sault Ste. Marie', 'St. Catharines', 'St. Thomas', 'Stratford', 'Temiskaming Shores',\n",
    "             'Thorold', 'Thunder Bay', 'Timmins', 'Toronto', 'Vaughan', 'Waterloo', 'Welland', 'Windsor', 'Woodstock']"
   ]
  },
  {
   "cell_type": "code",
   "execution_count": 12,
   "metadata": {},
   "outputs": [
    {
     "data": {
      "text/plain": [
       "54"
      ]
     },
     "execution_count": 12,
     "metadata": {},
     "output_type": "execute_result"
    }
   ],
   "source": [
    "len(city_name)"
   ]
  },
  {
   "cell_type": "code",
   "execution_count": 13,
   "metadata": {},
   "outputs": [],
   "source": [
    "fake = Faker()\n",
    "fake.locale = 'en_CA'"
   ]
  },
  {
   "cell_type": "code",
   "execution_count": 10,
   "metadata": {},
   "outputs": [],
   "source": [
    "def faker_generating(city_name, index):\n",
    "    temp_address = f\"{fake.building_number()} {fake.street_name()}, {city_name[index]}, ON\"\n",
    "    return temp_address"
   ]
  },
  {
   "cell_type": "code",
   "execution_count": 15,
   "metadata": {},
   "outputs": [],
   "source": [
    "delivery_address = []\n",
    "\n",
    "for index in range(15249):\n",
    "    i = random.randint(0, 53)\n",
    "    delivery_address.append(faker_generating(city_name, i))"
   ]
  },
  {
   "cell_type": "code",
   "execution_count": 17,
   "metadata": {},
   "outputs": [],
   "source": [
    "delivery_preference['Delivery Address'] = delivery_address"
   ]
  },
  {
   "cell_type": "code",
   "execution_count": 19,
   "metadata": {},
   "outputs": [],
   "source": [
    "delivery_preference.to_csv(\"Dataset/delivery_preference.csv\", index= False)"
   ]
  },
  {
   "cell_type": "code",
   "execution_count": null,
   "metadata": {},
   "outputs": [],
   "source": []
  }
 ],
 "metadata": {
  "kernelspec": {
   "display_name": ".venv",
   "language": "python",
   "name": "python3"
  },
  "language_info": {
   "codemirror_mode": {
    "name": "ipython",
    "version": 3
   },
   "file_extension": ".py",
   "mimetype": "text/x-python",
   "name": "python",
   "nbconvert_exporter": "python",
   "pygments_lexer": "ipython3",
   "version": "3.11.6"
  }
 },
 "nbformat": 4,
 "nbformat_minor": 2
}
