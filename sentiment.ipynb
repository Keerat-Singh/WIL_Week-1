{
 "cells": [
  {
   "cell_type": "code",
   "execution_count": 24,
   "metadata": {},
   "outputs": [],
   "source": [
    "import numpy as np \n",
    "import pandas as pd\n",
    "import nltk\n",
    "from nltk.sentiment import SentimentIntensityAnalyzer\n",
    "import seaborn as sns\n",
    "import matplotlib.pyplot as plt"
   ]
  },
  {
   "cell_type": "code",
   "execution_count": 12,
   "metadata": {},
   "outputs": [],
   "source": [
    "reviews_df = pd.read_csv(\"Dataset/reviews.csv\")"
   ]
  },
  {
   "cell_type": "code",
   "execution_count": 13,
   "metadata": {},
   "outputs": [
    {
     "name": "stdout",
     "output_type": "stream",
     "text": [
      " \"The website is slow and confusing;  they need to improve it urgently.\" \n",
      "The recipes are great, but they  could include more vegetarian  options. \n",
      "Excellent customer service; they  always resolve my inquiries quickly. \n",
      "The prices are fair, but they should  have more variety of products. \n",
      " \"My order arrived incomplete, and  the refund took weeks to process.\" \n",
      " \"The products always arrive fresh  and in good condition; I  recommend them.\" \n",
      "I love the recipes they offer; keep  up the good work! \n",
      "They should include more  gluten-free options for people with  intolerances. \n",
      "The purchasing process is  confusing, it took me a while to find  what I needed.\n",
      " \"Good service, but they could  improve the presentation of the  products.\" \n"
     ]
    }
   ],
   "source": [
    "sia = SentimentIntensityAnalyzer()\n",
    "\n",
    "def get_sentiment(text):\n",
    "    sentiment_score = sia.polarity_scores(text)\n",
    "    return sentiment_score['compound']\n",
    "\n",
    "for index, rows in reviews_df.iterrows():\n",
    "    print(rows['Comments or Suggestions'])\n",
    "    reviews_df['sentiment_socre'] = reviews_df['Comments or Suggestions'].apply(get_sentiment)"
   ]
  },
  {
   "cell_type": "code",
   "execution_count": null,
   "metadata": {},
   "outputs": [],
   "source": [
    "sia.polarity_scores()"
   ]
  },
  {
   "cell_type": "code",
   "execution_count": 14,
   "metadata": {},
   "outputs": [
    {
     "data": {
      "text/html": [
       "<div>\n",
       "<style scoped>\n",
       "    .dataframe tbody tr th:only-of-type {\n",
       "        vertical-align: middle;\n",
       "    }\n",
       "\n",
       "    .dataframe tbody tr th {\n",
       "        vertical-align: top;\n",
       "    }\n",
       "\n",
       "    .dataframe thead th {\n",
       "        text-align: right;\n",
       "    }\n",
       "</style>\n",
       "<table border=\"1\" class=\"dataframe\">\n",
       "  <thead>\n",
       "    <tr style=\"text-align: right;\">\n",
       "      <th></th>\n",
       "      <th>User ID</th>\n",
       "      <th>Satisfaction Score</th>\n",
       "      <th>Comments or Suggestions</th>\n",
       "      <th>sentiment_socre</th>\n",
       "    </tr>\n",
       "  </thead>\n",
       "  <tbody>\n",
       "    <tr>\n",
       "      <th>0</th>\n",
       "      <td>1005</td>\n",
       "      <td>2</td>\n",
       "      <td>\"The website is slow and confusing;  they nee...</td>\n",
       "      <td>0.2500</td>\n",
       "    </tr>\n",
       "    <tr>\n",
       "      <th>1</th>\n",
       "      <td>1006</td>\n",
       "      <td>4</td>\n",
       "      <td>The recipes are great, but they  could include...</td>\n",
       "      <td>0.3716</td>\n",
       "    </tr>\n",
       "    <tr>\n",
       "      <th>2</th>\n",
       "      <td>1007</td>\n",
       "      <td>5</td>\n",
       "      <td>Excellent customer service; they  always resol...</td>\n",
       "      <td>0.7430</td>\n",
       "    </tr>\n",
       "    <tr>\n",
       "      <th>3</th>\n",
       "      <td>1008</td>\n",
       "      <td>3</td>\n",
       "      <td>The prices are fair, but they should  have mor...</td>\n",
       "      <td>0.1655</td>\n",
       "    </tr>\n",
       "    <tr>\n",
       "      <th>4</th>\n",
       "      <td>1009</td>\n",
       "      <td>1</td>\n",
       "      <td>\"My order arrived incomplete, and  the refund...</td>\n",
       "      <td>0.0000</td>\n",
       "    </tr>\n",
       "    <tr>\n",
       "      <th>5</th>\n",
       "      <td>1010</td>\n",
       "      <td>4</td>\n",
       "      <td>\"The products always arrive fresh  and in goo...</td>\n",
       "      <td>0.7717</td>\n",
       "    </tr>\n",
       "    <tr>\n",
       "      <th>6</th>\n",
       "      <td>1011</td>\n",
       "      <td>5</td>\n",
       "      <td>I love the recipes they offer; keep  up the go...</td>\n",
       "      <td>0.8122</td>\n",
       "    </tr>\n",
       "    <tr>\n",
       "      <th>7</th>\n",
       "      <td>1012</td>\n",
       "      <td>3</td>\n",
       "      <td>They should include more  gluten-free options ...</td>\n",
       "      <td>0.0000</td>\n",
       "    </tr>\n",
       "    <tr>\n",
       "      <th>8</th>\n",
       "      <td>1013</td>\n",
       "      <td>2</td>\n",
       "      <td>The purchasing process is  confusing, it took ...</td>\n",
       "      <td>-0.2263</td>\n",
       "    </tr>\n",
       "    <tr>\n",
       "      <th>9</th>\n",
       "      <td>1014</td>\n",
       "      <td>4</td>\n",
       "      <td>\"Good service, but they could  improve the pr...</td>\n",
       "      <td>0.7003</td>\n",
       "    </tr>\n",
       "  </tbody>\n",
       "</table>\n",
       "</div>"
      ],
      "text/plain": [
       "   User ID   Satisfaction Score   \\\n",
       "0      1005                    2   \n",
       "1      1006                    4   \n",
       "2      1007                    5   \n",
       "3      1008                    3   \n",
       "4      1009                    1   \n",
       "5      1010                    4   \n",
       "6      1011                    5   \n",
       "7      1012                    3   \n",
       "8      1013                    2   \n",
       "9      1014                    4   \n",
       "\n",
       "                             Comments or Suggestions  sentiment_socre  \n",
       "0   \"The website is slow and confusing;  they nee...           0.2500  \n",
       "1  The recipes are great, but they  could include...           0.3716  \n",
       "2  Excellent customer service; they  always resol...           0.7430  \n",
       "3  The prices are fair, but they should  have mor...           0.1655  \n",
       "4   \"My order arrived incomplete, and  the refund...           0.0000  \n",
       "5   \"The products always arrive fresh  and in goo...           0.7717  \n",
       "6  I love the recipes they offer; keep  up the go...           0.8122  \n",
       "7  They should include more  gluten-free options ...           0.0000  \n",
       "8  The purchasing process is  confusing, it took ...          -0.2263  \n",
       "9   \"Good service, but they could  improve the pr...           0.7003  "
      ]
     },
     "execution_count": 14,
     "metadata": {},
     "output_type": "execute_result"
    }
   ],
   "source": [
    "reviews_df"
   ]
  },
  {
   "cell_type": "code",
   "execution_count": 18,
   "metadata": {},
   "outputs": [],
   "source": [
    "sentiment = []\n",
    "def classify_sentiment(score):\n",
    "    if score > 0.5:\n",
    "        sentiment.append('Positive')\n",
    "    elif score > -0.5:\n",
    "        sentiment.append('Neutral')\n",
    "    else:\n",
    "        sentiment.append('Negative')"
   ]
  },
  {
   "cell_type": "code",
   "execution_count": 19,
   "metadata": {},
   "outputs": [],
   "source": [
    "for index, rows in reviews_df.iterrows():\n",
    "     classify_sentiment(rows['sentiment_socre'])"
   ]
  },
  {
   "cell_type": "code",
   "execution_count": 20,
   "metadata": {},
   "outputs": [
    {
     "data": {
      "text/plain": [
       "['Neutral',\n",
       " 'Neutral',\n",
       " 'Positive',\n",
       " 'Neutral',\n",
       " 'Neutral',\n",
       " 'Positive',\n",
       " 'Positive',\n",
       " 'Neutral',\n",
       " 'Neutral',\n",
       " 'Positive']"
      ]
     },
     "execution_count": 20,
     "metadata": {},
     "output_type": "execute_result"
    }
   ],
   "source": [
    "sentiment "
   ]
  },
  {
   "cell_type": "code",
   "execution_count": 21,
   "metadata": {},
   "outputs": [],
   "source": [
    "reviews_df['Sentiment'] = sentiment"
   ]
  },
  {
   "cell_type": "code",
   "execution_count": 22,
   "metadata": {},
   "outputs": [
    {
     "data": {
      "text/html": [
       "<div>\n",
       "<style scoped>\n",
       "    .dataframe tbody tr th:only-of-type {\n",
       "        vertical-align: middle;\n",
       "    }\n",
       "\n",
       "    .dataframe tbody tr th {\n",
       "        vertical-align: top;\n",
       "    }\n",
       "\n",
       "    .dataframe thead th {\n",
       "        text-align: right;\n",
       "    }\n",
       "</style>\n",
       "<table border=\"1\" class=\"dataframe\">\n",
       "  <thead>\n",
       "    <tr style=\"text-align: right;\">\n",
       "      <th></th>\n",
       "      <th>User ID</th>\n",
       "      <th>Satisfaction Score</th>\n",
       "      <th>Comments or Suggestions</th>\n",
       "      <th>sentiment_socre</th>\n",
       "      <th>Sentiment</th>\n",
       "    </tr>\n",
       "  </thead>\n",
       "  <tbody>\n",
       "    <tr>\n",
       "      <th>0</th>\n",
       "      <td>1005</td>\n",
       "      <td>2</td>\n",
       "      <td>\"The website is slow and confusing;  they nee...</td>\n",
       "      <td>0.2500</td>\n",
       "      <td>Neutral</td>\n",
       "    </tr>\n",
       "    <tr>\n",
       "      <th>1</th>\n",
       "      <td>1006</td>\n",
       "      <td>4</td>\n",
       "      <td>The recipes are great, but they  could include...</td>\n",
       "      <td>0.3716</td>\n",
       "      <td>Neutral</td>\n",
       "    </tr>\n",
       "    <tr>\n",
       "      <th>2</th>\n",
       "      <td>1007</td>\n",
       "      <td>5</td>\n",
       "      <td>Excellent customer service; they  always resol...</td>\n",
       "      <td>0.7430</td>\n",
       "      <td>Positive</td>\n",
       "    </tr>\n",
       "    <tr>\n",
       "      <th>3</th>\n",
       "      <td>1008</td>\n",
       "      <td>3</td>\n",
       "      <td>The prices are fair, but they should  have mor...</td>\n",
       "      <td>0.1655</td>\n",
       "      <td>Neutral</td>\n",
       "    </tr>\n",
       "    <tr>\n",
       "      <th>4</th>\n",
       "      <td>1009</td>\n",
       "      <td>1</td>\n",
       "      <td>\"My order arrived incomplete, and  the refund...</td>\n",
       "      <td>0.0000</td>\n",
       "      <td>Neutral</td>\n",
       "    </tr>\n",
       "    <tr>\n",
       "      <th>5</th>\n",
       "      <td>1010</td>\n",
       "      <td>4</td>\n",
       "      <td>\"The products always arrive fresh  and in goo...</td>\n",
       "      <td>0.7717</td>\n",
       "      <td>Positive</td>\n",
       "    </tr>\n",
       "    <tr>\n",
       "      <th>6</th>\n",
       "      <td>1011</td>\n",
       "      <td>5</td>\n",
       "      <td>I love the recipes they offer; keep  up the go...</td>\n",
       "      <td>0.8122</td>\n",
       "      <td>Positive</td>\n",
       "    </tr>\n",
       "    <tr>\n",
       "      <th>7</th>\n",
       "      <td>1012</td>\n",
       "      <td>3</td>\n",
       "      <td>They should include more  gluten-free options ...</td>\n",
       "      <td>0.0000</td>\n",
       "      <td>Neutral</td>\n",
       "    </tr>\n",
       "    <tr>\n",
       "      <th>8</th>\n",
       "      <td>1013</td>\n",
       "      <td>2</td>\n",
       "      <td>The purchasing process is  confusing, it took ...</td>\n",
       "      <td>-0.2263</td>\n",
       "      <td>Neutral</td>\n",
       "    </tr>\n",
       "    <tr>\n",
       "      <th>9</th>\n",
       "      <td>1014</td>\n",
       "      <td>4</td>\n",
       "      <td>\"Good service, but they could  improve the pr...</td>\n",
       "      <td>0.7003</td>\n",
       "      <td>Positive</td>\n",
       "    </tr>\n",
       "  </tbody>\n",
       "</table>\n",
       "</div>"
      ],
      "text/plain": [
       "   User ID   Satisfaction Score   \\\n",
       "0      1005                    2   \n",
       "1      1006                    4   \n",
       "2      1007                    5   \n",
       "3      1008                    3   \n",
       "4      1009                    1   \n",
       "5      1010                    4   \n",
       "6      1011                    5   \n",
       "7      1012                    3   \n",
       "8      1013                    2   \n",
       "9      1014                    4   \n",
       "\n",
       "                             Comments or Suggestions  sentiment_socre  \\\n",
       "0   \"The website is slow and confusing;  they nee...           0.2500   \n",
       "1  The recipes are great, but they  could include...           0.3716   \n",
       "2  Excellent customer service; they  always resol...           0.7430   \n",
       "3  The prices are fair, but they should  have mor...           0.1655   \n",
       "4   \"My order arrived incomplete, and  the refund...           0.0000   \n",
       "5   \"The products always arrive fresh  and in goo...           0.7717   \n",
       "6  I love the recipes they offer; keep  up the go...           0.8122   \n",
       "7  They should include more  gluten-free options ...           0.0000   \n",
       "8  The purchasing process is  confusing, it took ...          -0.2263   \n",
       "9   \"Good service, but they could  improve the pr...           0.7003   \n",
       "\n",
       "  Sentiment  \n",
       "0   Neutral  \n",
       "1   Neutral  \n",
       "2  Positive  \n",
       "3   Neutral  \n",
       "4   Neutral  \n",
       "5  Positive  \n",
       "6  Positive  \n",
       "7   Neutral  \n",
       "8   Neutral  \n",
       "9  Positive  "
      ]
     },
     "execution_count": 22,
     "metadata": {},
     "output_type": "execute_result"
    }
   ],
   "source": [
    "reviews_df"
   ]
  },
  {
   "cell_type": "markdown",
   "metadata": {},
   "source": [
    "# EDA"
   ]
  },
  {
   "cell_type": "code",
   "execution_count": 38,
   "metadata": {},
   "outputs": [
    {
     "data": {
      "text/plain": [
       "Text(0, 0.5, 'Frequency')"
      ]
     },
     "execution_count": 38,
     "metadata": {},
     "output_type": "execute_result"
    },
    {
     "data": {
      "image/png": "[encoded data removed]",
      "text/plain": [
       "<Figure size 640x480 with 1 Axes>"
      ]
     },
     "metadata": {},
     "output_type": "display_data"
    }
   ],
   "source": [
    "sns.histplot(reviews_df['Satisfaction Score '], kde=True, color='skyblue')\n",
    "plt.title('Distribution of Satisfaction Scores')\n",
    "plt.xlabel('Satisfaction Score')\n",
    "plt.ylabel('Frequency')"
   ]
  },
  {
   "cell_type": "code",
   "execution_count": 39,
   "metadata": {},
   "outputs": [
    {
     "data": {
      "text/plain": [
       "Text(0.5, 1.0, 'Sentiment Distribution')"
      ]
     },
     "execution_count": 39,
     "metadata": {},
     "output_type": "execute_result"
    },
    {
     "data": {
      "image/png": "[encoded data removed]",
      "text/plain": [
       "<Figure size 640x480 with 1 Axes>"
      ]
     },
     "metadata": {},
     "output_type": "display_data"
    }
   ],
   "source": [
    "sentiment_counts = reviews_df['Sentiment'].value_counts()\n",
    "plt.pie(sentiment_counts, labels=sentiment_counts.index, autopct='%1.1f%%', startangle=140, colors=['gold', 'lightcoral', 'lightgreen'])\n",
    "plt.title('Sentiment Distribution')"
   ]
  },
  {
   "cell_type": "code",
   "execution_count": 47,
   "metadata": {},
   "outputs": [
    {
     "name": "stderr",
     "output_type": "stream",
     "text": [
      "d:\\College\\WIL\\WIL_Week-1\\.venv\\Lib\\site-packages\\seaborn\\_base.py:949: FutureWarning: When grouping with a length-1 list-like, you will need to pass a length-1 tuple to get_group in a future version of pandas. Pass `(name,)` instead of `name` to silence this warning.\n",
      "  data_subset = grouped_data.get_group(pd_key)\n",
      "d:\\College\\WIL\\WIL_Week-1\\.venv\\Lib\\site-packages\\seaborn\\_base.py:949: FutureWarning: When grouping with a length-1 list-like, you will need to pass a length-1 tuple to get_group in a future version of pandas. Pass `(name,)` instead of `name` to silence this warning.\n",
      "  data_subset = grouped_data.get_group(pd_key)\n"
     ]
    },
    {
     "data": {
      "image/png": "[encoded data removed]",
      "text/plain": [
       "<Figure size 1000x600 with 1 Axes>"
      ]
     },
     "metadata": {},
     "output_type": "display_data"
    }
   ],
   "source": [
    "# Create a countplot\n",
    "plt.figure(figsize=(10, 6))\n",
    "sns.countplot(x='Satisfaction Score ', hue='Sentiment', data=reviews_df, palette='viridis')\n",
    "plt.title('Count of Sentiments by Satisfaction Score')\n",
    "plt.xlabel('Satisfaction Score')\n",
    "plt.ylabel('Count')\n",
    "plt.legend(title='Sentiment')\n",
    "\n",
    "# Show the plot\n",
    "plt.show()"
   ]
  },
  {
   "cell_type": "code",
   "execution_count": null,
   "metadata": {},
   "outputs": [],
   "source": []
  }
 ],
 "metadata": {
  "kernelspec": {
   "display_name": "base",
   "language": "python",
   "name": "python3"
  },
  "language_info": {
   "codemirror_mode": {
    "name": "ipython",
    "version": 3
   },
   "file_extension": ".py",
   "mimetype": "text/x-python",
   "name": "python",
   "nbconvert_exporter": "python",
   "pygments_lexer": "ipython3",
   "version": "3.11.6"
  }
 },
 "nbformat": 4,
 "nbformat_minor": 2
}
