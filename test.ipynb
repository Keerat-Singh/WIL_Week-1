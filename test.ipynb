{
 "cells": [
  {
   "cell_type": "code",
   "execution_count": 1,
   "metadata": {},
   "outputs": [],
   "source": [
    "import pandas as pd\n",
    "import random\n",
    "import numpy as np"
   ]
  },
  {
   "cell_type": "code",
   "execution_count": 2,
   "metadata": {},
   "outputs": [],
   "source": [
    "recipe_details_df = pd.read_csv(\"CulinaryDB/01_Recipe_Details.csv\")"
   ]
  },
  {
   "cell_type": "code",
   "execution_count": 3,
   "metadata": {},
   "outputs": [
    {
     "data": {
      "text/html": [
       "<div>\n",
       "<style scoped>\n",
       "    .dataframe tbody tr th:only-of-type {\n",
       "        vertical-align: middle;\n",
       "    }\n",
       "\n",
       "    .dataframe tbody tr th {\n",
       "        vertical-align: top;\n",
       "    }\n",
       "\n",
       "    .dataframe thead th {\n",
       "        text-align: right;\n",
       "    }\n",
       "</style>\n",
       "<table border=\"1\" class=\"dataframe\">\n",
       "  <thead>\n",
       "    <tr style=\"text-align: right;\">\n",
       "      <th></th>\n",
       "      <th>Recipe ID</th>\n",
       "      <th>Title</th>\n",
       "      <th>Source</th>\n",
       "      <th>Cuisine</th>\n",
       "    </tr>\n",
       "  </thead>\n",
       "  <tbody>\n",
       "    <tr>\n",
       "      <th>0</th>\n",
       "      <td>1</td>\n",
       "      <td>5 spice vegetable fried rice</td>\n",
       "      <td>TARLA_DALAL</td>\n",
       "      <td>Indian Subcontinent</td>\n",
       "    </tr>\n",
       "    <tr>\n",
       "      <th>1</th>\n",
       "      <td>2</td>\n",
       "      <td>aachar aaloo</td>\n",
       "      <td>TARLA_DALAL</td>\n",
       "      <td>Indian Subcontinent</td>\n",
       "    </tr>\n",
       "    <tr>\n",
       "      <th>2</th>\n",
       "      <td>3</td>\n",
       "      <td>aadu lassan keri nu athanu</td>\n",
       "      <td>TARLA_DALAL</td>\n",
       "      <td>Indian Subcontinent</td>\n",
       "    </tr>\n",
       "    <tr>\n",
       "      <th>3</th>\n",
       "      <td>4</td>\n",
       "      <td>aaloo kofta</td>\n",
       "      <td>TARLA_DALAL</td>\n",
       "      <td>Indian Subcontinent</td>\n",
       "    </tr>\n",
       "    <tr>\n",
       "      <th>4</th>\n",
       "      <td>5</td>\n",
       "      <td>aaloo tamatar subzi</td>\n",
       "      <td>TARLA_DALAL</td>\n",
       "      <td>Indian Subcontinent</td>\n",
       "    </tr>\n",
       "  </tbody>\n",
       "</table>\n",
       "</div>"
      ],
      "text/plain": [
       "   Recipe ID                         Title       Source              Cuisine\n",
       "0          1  5 spice vegetable fried rice  TARLA_DALAL  Indian Subcontinent\n",
       "1          2                  aachar aaloo  TARLA_DALAL  Indian Subcontinent\n",
       "2          3    aadu lassan keri nu athanu  TARLA_DALAL  Indian Subcontinent\n",
       "3          4                   aaloo kofta  TARLA_DALAL  Indian Subcontinent\n",
       "4          5           aaloo tamatar subzi  TARLA_DALAL  Indian Subcontinent"
      ]
     },
     "execution_count": 3,
     "metadata": {},
     "output_type": "execute_result"
    }
   ],
   "source": [
    "recipe_details_df.head()"
   ]
  },
  {
   "cell_type": "markdown",
   "metadata": {},
   "source": [
    "## User Interaction data"
   ]
  },
  {
   "cell_type": "code",
   "execution_count": 5,
   "metadata": {},
   "outputs": [],
   "source": [
    "user_id = [x for x in range(1, 251)]"
   ]
  },
  {
   "cell_type": "code",
   "execution_count": 13,
   "metadata": {},
   "outputs": [
    {
     "data": {
      "text/plain": [
       "array([40., 36., 16., 27., 55.,  6., 35., 29., 21., 13., 31., 28., 27.,\n",
       "       37.,  8.,  9., 21., 32., 18., 37., 56., 39., 30., 28., 20., 35.,\n",
       "       34., 21., 36., 26., 35., 29., 25., 29., 37., 22., 54., 28., 42.,\n",
       "       24., 31., 27., 39., 43., 15., 29., 27., 13., 45., 24.,  3., 12.,\n",
       "       59., 23., 23., 10., 26., 29.,  4., 27., 22., 22., 18., 44., 18.,\n",
       "       17., 25., 30., 31., 43.,  3., 49., 11., 15., 21., 46., 28., 19.,\n",
       "       28., 39., 30., 46., 42., 38., 26., 40., 24., 17., 23., 29., 20.,\n",
       "       17., 49., 23., 20., 39., 26., 33., 46., 34., 20., 54., 37., 40.,\n",
       "       37., 23., 46., 51., 34., 39., 26., 32., 24., 44., 11., 15., 50.,\n",
       "       46., 43., 24., 10., 21., 30., 36., 33., 32., 41., 41., 50., 40.,\n",
       "       26., 33., 64., 42., 29., 18., 36.,  6., 61., 20., 15., 18., 33.,\n",
       "       31., 44., 29., 23., 35., 20., 26., 32., 29., 13., 12., 34., 43.,\n",
       "       32., 57., 49., 26., 50., 14., 33., 28., 22., 32., 50., 52., 15.,\n",
       "        2., 20., 42., 18., 40., 23., 35., 32., 42., 36., 31., 12.,  7.,\n",
       "       24., 28., 31., 37., 18., 14., 36., 16., 22., 24.,  6., 19., 59.,\n",
       "        8., 17., 22., 38., 11., 19., 12., 32., 44., 28., 25., 37., 55.,\n",
       "        6., 10., 58., 10., 57., 44., 15., 34., 25., 20., 41., 38.,  3.,\n",
       "       35., 18., 26., 33., 19., 38., 39., 19., 39., 24., 57., 13., 35.,\n",
       "       10., 14., 34., 29., 16., 15., 21., 56., 60., 26., 34., 35., 51.,\n",
       "       28., 17., 49.])"
      ]
     },
     "execution_count": 13,
     "metadata": {},
     "output_type": "execute_result"
    }
   ],
   "source": [
    "mean_value = 30\n",
    "std = 13\n",
    "sessions_initiated = np.round(np.abs(np.random.normal(loc= mean_value, scale=std, size=250)))\n",
    "sessions_initiated"
   ]
  },
  {
   "cell_type": "code",
   "execution_count": 18,
   "metadata": {},
   "outputs": [
    {
     "data": {
      "text/plain": [
       "array([40, 36, 16, 27, 55,  6, 35, 29, 21, 13, 31, 28, 27, 37,  8,  9, 21,\n",
       "       32, 18, 37, 56, 39, 30, 28, 20, 35, 34, 21, 36, 26, 35, 29, 25, 29,\n",
       "       37, 22, 54, 28, 42, 24, 31, 27, 39, 43, 15, 29, 27, 13, 45, 24,  3,\n",
       "       12, 59, 23, 23, 10, 26, 29,  4, 27, 22, 22, 18, 44, 18, 17, 25, 30,\n",
       "       31, 43,  3, 49, 11, 15, 21, 46, 28, 19, 28, 39, 30, 46, 42, 38, 26,\n",
       "       40, 24, 17, 23, 29, 20, 17, 49, 23, 20, 39, 26, 33, 46, 34, 20, 54,\n",
       "       37, 40, 37, 23, 46, 51, 34, 39, 26, 32, 24, 44, 11, 15, 50, 46, 43,\n",
       "       24, 10, 21, 30, 36, 33, 32, 41, 41, 50, 40, 26, 33, 64, 42, 29, 18,\n",
       "       36,  6, 61, 20, 15, 18, 33, 31, 44, 29, 23, 35, 20, 26, 32, 29, 13,\n",
       "       12, 34, 43, 32, 57, 49, 26, 50, 14, 33, 28, 22, 32, 50, 52, 15,  2,\n",
       "       20, 42, 18, 40, 23, 35, 32, 42, 36, 31, 12,  7, 24, 28, 31, 37, 18,\n",
       "       14, 36, 16, 22, 24,  6, 19, 59,  8, 17, 22, 38, 11, 19, 12, 32, 44,\n",
       "       28, 25, 37, 55,  6, 10, 58, 10, 57, 44, 15, 34, 25, 20, 41, 38,  3,\n",
       "       35, 18, 26, 33, 19, 38, 39, 19, 39, 24, 57, 13, 35, 10, 14, 34, 29,\n",
       "       16, 15, 21, 56, 60, 26, 34, 35, 51, 28, 17, 49])"
      ]
     },
     "execution_count": 18,
     "metadata": {},
     "output_type": "execute_result"
    }
   ],
   "source": [
    "sessions_initiated = sessions_initiated.astype(int)\n",
    "sessions_initiated"
   ]
  },
  {
   "cell_type": "code",
   "execution_count": 26,
   "metadata": {},
   "outputs": [
    {
     "data": {
      "text/plain": [
       "array([12.3, 19.7, 12.1, 14.5, 18.5,  9.9,  2.9, 13.6, 11.2, 10. ,  8.7,\n",
       "       13. , 11.6, 13.6, 13.9,  9. , 13.6,  6.9, 11.6, 16.6, 10. , 16.7,\n",
       "       13.1, 16. , 11.2, 15.4,  7.1, 12.1, 12.9, 19.3, 18.3, 16.3, 12.3,\n",
       "       10.1, 10.7, 11.9,  9.6, 12.4, 10.9,  7.5, 12.4, 14. , 11.9, 15.8,\n",
       "       13.7, 14.6, 15.9, 11.4, 10.8, 17.5,  9.2,  9.6, 11.2, 15.4, 15.2,\n",
       "        6.7, 10.9, 10.9, 17.4, 11.2, 18.4,  9. , 12. ,  7.8, 14.3, 11.5,\n",
       "        7. , 13.8, 16.5,  8.5, 10.3, 10.9, 23.5, 12.6, 14. ,  7.9, 18.5,\n",
       "        8.7, 10.5,  7.5, 12.1,  8.4, 13. , 11.8, 14. , 17. , 11.5,  5.8,\n",
       "       10.2,  8.5,  8.4, 12.8,  9.3, 10.4,  4.5,  6.1,  8.1,  8.5, 10.3,\n",
       "        8.6, 11.4,  7.2, 12.9,  5.7, 13.3,  6.5,  8.6, 12.3, 15.6, 12.2,\n",
       "        7.3,  5.3, 10.8, 13.5, 13.9, 12.7,  5.8, 12. , 10.2, 11. , 24.9,\n",
       "        7.8, 21.7, 16.9, 12.8, 14.1,  9.1,  8.1, 13.2, 15.5, 11.4,  9.7,\n",
       "       15.9,  7.7, 12.4, 11. , 15.2,  9.2, 16.2, 12.3, 14. , 12. ,  3.2,\n",
       "        8.9,  9.9, 11.5, 16.3,  7.6, 15. , 20.5, 10.4,  6.3, 10. , 10.6,\n",
       "        9.9,  9.8, 16.2,  9.7, 14.1, 12. ,  3.6, 15.2, 14.1, 16.6,  9. ,\n",
       "       10.8, 20.5, 14.3, 17.8, 14.1, 12.5,  8.6, 17.1,  9.7, 12.7, 11.3,\n",
       "       15.2,  1.1,  7.1, 12.9,  7.2, 14.2, 17.9, 16.5, 15.3, 17. , 14.8,\n",
       "       12.7,  9.3, 11. , 11.8, 13.7, 14.6, 17.2, 15.7,  5.3, 12.4, 13.6,\n",
       "        9.6, 13.5,  9.8,  5.7,  9.5, 14.4, 10.4,  9.2, 11.1, 13.1, 19.8,\n",
       "        8.5, 15.7, 17.8,  7.8,  7. ,  5.7, 12.3,  8.3, 18.2, 13.3, 12.9,\n",
       "       17.9, 11.5,  9. ,  9.1, 15.6,  9.6,  1.2, 14.4, 12.1, 13.3,  7.3,\n",
       "       14.2, 10. , 12.3, 14.9, 13.9, 15.7,  7.5, 10.6, 15.8, 11.4, 15.3,\n",
       "       14.5, 15.4, 16.3, 10.9,  8.4, 22.8, 11.1,  8.1])"
      ]
     },
     "execution_count": 26,
     "metadata": {},
     "output_type": "execute_result"
    }
   ],
   "source": [
    "mean_value = 12\n",
    "std = 4\n",
    "average_time_per_session = np.round(np.abs(np.random.normal(loc= mean_value, scale=std, size=250)), decimals= 1)\n",
    "average_time_per_session"
   ]
  },
  {
   "cell_type": "code",
   "execution_count": null,
   "metadata": {},
   "outputs": [],
   "source": [
    "favourite_recipes = []\n",
    "recipe_details_df"
   ]
  },
  {
   "cell_type": "code",
   "execution_count": 32,
   "metadata": {},
   "outputs": [
    {
     "data": {
      "text/plain": [
       "array(['Cornmeal Thumbprint Cookies with Summer Strawberry Jam',\n",
       "       'Roasted Garlic Green Hummus', 'Rice Salad Italienne',\n",
       "       'Kataifi with Candied Pumpkin and Yogurt'], dtype=object)"
      ]
     },
     "execution_count": 32,
     "metadata": {},
     "output_type": "execute_result"
    }
   ],
   "source": [
    "recipe_details_df['Title'].sample(4).values"
   ]
  },
  {
   "cell_type": "code",
   "execution_count": null,
   "metadata": {},
   "outputs": [],
   "source": []
  }
 ],
 "metadata": {
  "kernelspec": {
   "display_name": ".venv",
   "language": "python",
   "name": "python3"
  },
  "language_info": {
   "codemirror_mode": {
    "name": "ipython",
    "version": 3
   },
   "file_extension": ".py",
   "mimetype": "text/x-python",
   "name": "python",
   "nbconvert_exporter": "python",
   "pygments_lexer": "ipython3",
   "version": "3.11.6"
  }
 },
 "nbformat": 4,
 "nbformat_minor": 2
}
